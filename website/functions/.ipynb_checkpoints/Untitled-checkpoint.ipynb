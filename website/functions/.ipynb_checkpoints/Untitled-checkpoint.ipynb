{
 "cells": [
  {
   "cell_type": "code",
   "execution_count": 1,
   "id": "7735eab7",
   "metadata": {},
   "outputs": [],
   "source": [
    "from os import write\n",
    "from bs4 import BeautifulSoup\n",
    "from time import sleep\n",
    "import requests"
   ]
  },
  {
   "cell_type": "code",
   "execution_count": 2,
   "id": "dbc6368f",
   "metadata": {},
   "outputs": [],
   "source": [
    "def scrape_apnews():\n",
    "    html_text = requests.get('https://apnews.com/hub/russia-ukraine?utm_source=apnewsnav&utm_medium=featured').text\n",
    "    soup = BeautifulSoup(html_text, 'lxml')\n",
    "    news_title = soup.find_all('h2')\n",
    "    news_link = soup.find_all('a', {'data-key': 'card-headline'})\n",
    "    titles = []\n",
    "    links = []\n",
    "    for title, link in zip(news_title, news_link):\n",
    "        titles.append(title.get_text())\n",
    "        links.append(link.get('href'))\n",
    "    return titles, links"
   ]
  },
  {
   "cell_type": "code",
   "execution_count": 58,
   "id": "89950d38",
   "metadata": {},
   "outputs": [],
   "source": [
    "def scrape_g1():\n",
    "    html_text = requests.get('https://g1.globo.com/tudo-sobre/ucrania/').text\n",
    "    soup = BeautifulSoup(html_text, 'lxml')\n",
    "    \n",
    "    soup.footer.decompose()\n",
    "    soup.nav.decompose()\n",
    "    soup.h1.decompose()\n",
    "    soup.header.decompose()\n",
    "    news_list = soup.find_all('a')\n",
    "    titles = []\n",
    "    links = []\n",
    "    for news in news_list[:-2]:\n",
    "        if news.get('href') not in links:\n",
    "            titles.append(news.get_text())\n",
    "            links.append(news.get('href'))\n",
    "\n",
    "    return titles, links\n"
   ]
  },
  {
   "cell_type": "code",
   "execution_count": 90,
   "id": "faf8c1f7",
   "metadata": {},
   "outputs": [],
   "source": [
    "def scrape_bbc():\n",
    "    html_text = requests.get('https://www.bbc.com/news/world-60525350').text\n",
    "    soup = BeautifulSoup(html_text, 'lxml')\n",
    "    titles = soup.find_all('a', {'class': 'qa-heading-link lx-stream-post__header-link'})\n",
    "    links = soup.find_all('span', {'class': 'lx-stream-post__header-text gs-u-align-middle'})\n",
    "    desc = soup.find_all('p', {'class': 'lx-stream-related-story--summary qa-story-summary'})\n",
    "    for line, link, description in zip(titles, links, desc):\n",
    "        print(line.get_text())\n",
    "        print('https://www.bbc.com' + line.get('href'))\n",
    "        print(description.get_text())"
   ]
  },
  {
   "cell_type": "code",
   "execution_count": 4,
   "id": "2f887473",
   "metadata": {},
   "outputs": [],
   "source": [
    "def scrape_economist():\n",
    "    html_text = requests.get('https://www.economist.com/ukraine-crisis').text\n",
    "    soup = BeautifulSoup(html_text, 'lxml')\n",
    "    news = soup.find('div', {'class': 'collection__column collection__column--1 ds-layout-grid'})\n",
    "    for line in news:\n",
    "        print(line.get_text())"
   ]
  },
  {
   "cell_type": "code",
   "execution_count": null,
   "id": "9d22efee",
   "metadata": {},
   "outputs": [],
   "source": []
  }
 ],
 "metadata": {
  "kernelspec": {
   "display_name": "Python 3 (ipykernel)",
   "language": "python",
   "name": "python3"
  },
  "language_info": {
   "codemirror_mode": {
    "name": "ipython",
    "version": 3
   },
   "file_extension": ".py",
   "mimetype": "text/x-python",
   "name": "python",
   "nbconvert_exporter": "python",
   "pygments_lexer": "ipython3",
   "version": "3.10.1"
  }
 },
 "nbformat": 4,
 "nbformat_minor": 5
}
