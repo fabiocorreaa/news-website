{
 "cells": [
  {
   "cell_type": "code",
   "execution_count": 1,
   "id": "7735eab7",
   "metadata": {},
   "outputs": [],
   "source": [
    "from bs4 import BeautifulSoup\n",
    "import requests"
   ]
  },
  {
   "cell_type": "code",
   "execution_count": 2,
   "id": "08e01f35",
   "metadata": {},
   "outputs": [],
   "source": [
    "def scrape_apnews():\n",
    "    html_text = requests.get('https://apnews.com/hub/russia-ukraine?utm_source=apnewsnav&utm_medium=featured').text\n",
    "    soup = BeautifulSoup(html_text, 'lxml')\n",
    "    news_title = soup.find_all('h2')\n",
    "    news_link = soup.find_all('a', {'data-key': 'card-headline'})\n",
    "    news_desc = soup.find_all('p')\n",
    "    titles = []\n",
    "    links = []\n",
    "    descs = []\n",
    "    for title, link, desc in zip(news_title, news_link, news_desc):\n",
    "        titles.append(title.get_text())\n",
    "        links.append('https://apnews.com' + link.get('href'))\n",
    "        descs.append(desc.get_text())\n",
    "    return titles, links, descs"
   ]
  },
  {
   "cell_type": "code",
   "execution_count": 3,
   "id": "1db521c2",
   "metadata": {},
   "outputs": [],
   "source": [
    "def scrape_apnews():\n",
    "    html_text = requests.get('https://apnews.com/hub/russia-ukraine?utm_source=apnewsnav&utm_medium=featured').text\n",
    "    soup = BeautifulSoup(html_text, 'lxml')\n",
    "    news_title = soup.find_all('h2')\n",
    "    news_link = soup.find_all('a', {'data-key': 'card-headline'})\n",
    "    news_desc = soup.find_all('p')\n",
    "    news = []\n",
    "    for title, link, desc in zip(news_title, news_link, news_desc):\n",
    "        news.append(title.get_text())\n",
    "        news.append(desc.get_text())\n",
    "        news.append('https://apnews.com' + link.get('href'))\n",
    "    return news"
   ]
  },
  {
   "cell_type": "code",
   "execution_count": 5,
   "id": "89950d38",
   "metadata": {},
   "outputs": [],
   "source": [
    "def scrape_g1():\n",
    "    html_text = requests.get('https://g1.globo.com/tudo-sobre/ucrania/').text\n",
    "    soup = BeautifulSoup(html_text, 'lxml')\n",
    "    \n",
    "    soup.footer.decompose()\n",
    "    soup.nav.decompose()\n",
    "    soup.h1.decompose()\n",
    "    soup.header.decompose()\n",
    "    news_list = soup.find_all('a')\n",
    "    titles = []\n",
    "    links = []\n",
    "    for news in news_list[:-2]:\n",
    "        if news.get('href') not in links:\n",
    "            titles.append(news.get_text())\n",
    "            links.append(news.get('href'))\n",
    "\n",
    "    return titles, links\n"
   ]
  },
  {
   "cell_type": "code",
   "execution_count": null,
   "id": "715494d4",
   "metadata": {},
   "outputs": [
    {
     "ename": "",
     "evalue": "",
     "output_type": "error",
     "traceback": [
      "\u001b[1;31mRunning cells with 'Python 3.10.1 ('venv': venv)' requires ipykernel package.\n",
      "Run the following command to install 'ipykernel' into the Python environment. \n",
      "Command: 'd:/Projects/myprojects/07_news_website/venv/Scripts/python.exe -m pip install ipykernel -U --force-reinstall'"
     ]
    }
   ],
   "source": [
    "def scrape_bbc():\n",
    "    html_text = requests.get('https://www.bbc.com/news/world-60525350').text\n",
    "    soup = BeautifulSoup(html_text, 'lxml')\n",
    "    news_title = soup.find_all('a', {'class': 'qa-heading-link lx-stream-post__header-link'})\n",
    "    news_desc = soup.find_all('p', {'class': 'lx-stream-related-story--summary qa-story-summary'})\n",
    "    titles = []\n",
    "    links = []\n",
    "    descs = []\n",
    "    for line, desc in zip(news_title, news_desc):\n",
    "        titles.append(line.get_text())\n",
    "        links.append('https://www.bbc.com' + line.get('href'))\n",
    "        descs.append(desc.get_text())\n",
    "    \n",
    "    return titles, links, descs\n",
    "    "
   ]
  },
  {
   "cell_type": "code",
   "execution_count": null,
   "id": "c3785eb1",
   "metadata": {},
   "outputs": [
    {
     "data": {
      "text/plain": [
       "(['Family who fled Ukraine arrive safely in Poland',\n",
       "  \"Stormont must 'do more' to help Ukrainian refugees\",\n",
       "  'Animal artist fundraising for Ukrainian pets',\n",
       "  'Ukraine accuses Russia of abducting second mayor',\n",
       "  'Emotions run high as Ukrainian family arrive safe',\n",
       "  'UK offers £350 a month to Ukrainian refugee hosts',\n",
       "  'Everton FC to donate £250,000 to Ukraine appeal',\n",
       "  'Ireland takes in 5,500 Ukrainian refugees',\n",
       "  'Scotland and Wales bid to be refugee super sponsors',\n",
       "  'Wales ready to welcome 1,000 Ukrainian refugees',\n",
       "  \"Gove: Oligarchs' houses could be used for refugees\",\n",
       "  'Day 18 in maps: Russia strikes new targets',\n",
       "  'Ukrainians inspire good deeds for war effort',\n",
       "  \"Ukraine war 'leads to rise in period pad donations'\",\n",
       "  'The teenagers at war with only three days training',\n",
       "  'Knitting for Ukrainian children and mental health',\n",
       "  'Russia faces brain drain as thousands flee abroad',\n",
       "  'How sanctions have changed everyday life in Russia'],\n",
       " ['https://www.bbc.com/news/uk-england-sussex-60727277',\n",
       "  'https://www.bbc.com/news/uk-northern-ireland-60728158',\n",
       "  'https://www.bbc.com/news/uk-england-humber-60727535',\n",
       "  'https://www.bbc.com/news/world-europe-60725962',\n",
       "  'https://www.bbc.com/news/uk-england-sussex-60721398',\n",
       "  'https://www.bbc.com/news/uk-60724111',\n",
       "  'https://www.bbc.com/news/uk-england-merseyside-60727757',\n",
       "  'https://www.bbc.com/news/world-europe-60727319',\n",
       "  'https://www.bbc.com/news/uk-scotland-60722616',\n",
       "  'https://www.bbc.com/news/uk-wales-60727139',\n",
       "  'https://www.bbc.com/news/world-60726184',\n",
       "  'https://www.bbc.com/news/world-europe-60506682',\n",
       "  'https://www.bbc.com/news/uk-scotland-60720379',\n",
       "  'https://www.bbc.com/news/uk-england-essex-60697633',\n",
       "  'https://www.bbc.com/news/world-europe-60726265',\n",
       "  'https://www.bbc.com/news/uk-northern-ireland-60697358',\n",
       "  'https://www.bbc.com/news/world-europe-60697763',\n",
       "  'https://www.bbc.com/news/world-europe-60647543'],\n",
       " ['Dan Baker says he is relieved to have arrived in Poland with his wife and step-daughter.',\n",
       "  'SDLP politician makes call as Scotland and Wales ask to become \"super sponsors\" to house refugees.',\n",
       "  'Lisa Watkins works with two Romanian charities to offer help to refugees with their pets.',\n",
       "  'The news comes as Ukraine says Russia is trying to create \"pseudo-republics\" to break up the country.',\n",
       "  'A 13-year-old refugee says a lot of good people have helped her family get out of Ukraine.',\n",
       "  'There will also be £10,000 per refugee for local authorities, but critics say the plan falls short.',\n",
       "  'Chairman Bill Kenwright and owner Farhad Moshiri will match the donation, making a total of £500,000.',\n",
       "  \"'Ireland has never experienced anything on this scale before', says Taoiseach Micheál Martin.\",\n",
       "  'The first ministers want Ukrainians to be housed quickly and given help with safeguarding and services.',\n",
       "  'Potential sources of housing include universities and private accommodation, first minister says.',\n",
       "  'Russian troops have expanded their offensive as they continue attempts to cut off the capital Kyiv.',\n",
       "  'Bunk beds going into Poland and orphans coming out - Scots are pushing hard to help Ukraine in any way they can.',\n",
       "  'Ella Lambert says more people want to help her project making reusable products for refugees.',\n",
       "  \"Padraig and Roisin, who are recovering addicts, wanted to help after Russia's invasion.\",\n",
       "  'Many Russians who can afford it have fled to nearby countries since Russia invaded Ukraine.',\n",
       "  'Prices are rising in Russia and some goods are harder to buy. Here are ways sanctions are affecting daily life.',\n",
       "  \"From an airstrike bunker to his mum's relieved hugs, Vishnu tells how he and his dog fled Ukraine to India.\",\n",
       "  'The ban on Russian oil exports is causing prices to surge, and leaders are revisiting some awkward friendships.'])"
      ]
     },
     "execution_count": 11,
     "metadata": {},
     "output_type": "execute_result"
    }
   ],
   "source": [
    "scrape_bbc()"
   ]
  },
  {
   "cell_type": "code",
   "execution_count": null,
   "id": "4f16cd49",
   "metadata": {},
   "outputs": [],
   "source": [
    "def scrape_economist():\n",
    "    html_text = requests.get('https://www.economist.com/ukraine-crisis').text\n",
    "    soup = BeautifulSoup(html_text, 'lxml')\n",
    "    news_title = soup.find_all('span', {'class': 'collection-item__headline'})\n",
    "    news_link = soup.find_all('a', {'class': 'headline-link'})\n",
    "    news_desc = soup.find_all('p', 'collection-item__description')\n",
    "    titles = []\n",
    "    links = []\n",
    "    descs = []\n",
    "    for line, link, desc in zip(news_title, news_link, news_desc):\n",
    "        titles.append(line.get_text())\n",
    "        if 'https://www.economist.com/' in link.get('href'):\n",
    "            links.append(link.get('href'))\n",
    "        else:\n",
    "            links.append('https://www.economist.com' + link.get('href'))\n",
    "        descs.append(desc.get_text())\n",
    "    return titles, links, descs"
   ]
  },
  {
   "cell_type": "code",
   "execution_count": null,
   "id": "df44c02d",
   "metadata": {},
   "outputs": [],
   "source": []
  }
 ],
 "metadata": {
  "kernelspec": {
   "display_name": "Python 3 (ipykernel)",
   "language": "python",
   "name": "python3"
  },
  "language_info": {
   "codemirror_mode": {
    "name": "ipython",
    "version": 3
   },
   "file_extension": ".py",
   "mimetype": "text/x-python",
   "name": "python",
   "nbconvert_exporter": "python",
   "pygments_lexer": "ipython3",
   "version": "3.10.1"
  }
 },
 "nbformat": 4,
 "nbformat_minor": 5
}
